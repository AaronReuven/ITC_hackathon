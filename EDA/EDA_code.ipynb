{
 "cells": [
  {
   "cell_type": "code",
   "execution_count": 1,
   "id": "a715d242",
   "metadata": {},
   "outputs": [],
   "source": [
    "import pandas as pd \n",
    "import numpy as np\n",
    "import matplotlib.pyplot as plt\n",
    "import seaborn as sns\n",
    "from google.cloud import storage"
   ]
  },
  {
   "cell_type": "code",
   "execution_count": 2,
   "id": "a7f2af78",
   "metadata": {},
   "outputs": [],
   "source": [
    "storage_client = storage.Client.create_anonymous_client()\n",
    "\n",
    "bucket = storage_client.bucket('quickdraw_dataset')\n",
    "blob = bucket.blob('full/numpy_bitmap/ant.npy')\n",
    "blob.download_to_filename('ant.npy')"
   ]
  },
  {
   "cell_type": "code",
   "execution_count": 3,
   "id": "cf32da9f",
   "metadata": {},
   "outputs": [],
   "source": [
    "arr = np.load('ant.npy')"
   ]
  },
  {
   "cell_type": "code",
   "execution_count": 4,
   "id": "8703c0ff",
   "metadata": {},
   "outputs": [
    {
     "data": {
      "text/plain": [
       "(124612, 784)"
      ]
     },
     "execution_count": 4,
     "metadata": {},
     "output_type": "execute_result"
    }
   ],
   "source": [
    "arr.shape"
   ]
  },
  {
   "cell_type": "code",
   "execution_count": 5,
   "id": "f5297002",
   "metadata": {},
   "outputs": [
    {
     "data": {
      "text/plain": [
       "array([  0,   0,   0,   0,   0,   0,   0,   0,   0,   0,   0,   0,   0,\n",
       "         0,   0,   0,   0,   0,   0,   0,   0,   0,   0,   0,   0,   0,\n",
       "         0,   0,   0,   0,   0,   0,   0,   0,   0,   0,   0,   0,   0,\n",
       "         0,   0,   0,   0,   0,   0,   0,   0,   0,   0,   0,   0,   0,\n",
       "         0,   0,   0,   0,   0,   0,   0,   0,   0,   0,   0,   0,   0,\n",
       "         0,   0,   0,   0,   0,   0,   0,   0,   0,   0,   0,   0,   0,\n",
       "         0,   0,   0,   0,   0,   0,   0,   0,   0,   0,   0,   0,   0,\n",
       "         0,   0,   0,   0,   0,   0,   0,   0,   0,   0,   0,   0,   0,\n",
       "         0,   0,   0,   0,   0,   0,   0,   0,   0,   0,   0,   0,   0,\n",
       "         0,   0,   0,   0,   0,   0,   0,   0,   0,   0,   0,   0,   0,\n",
       "         0,   0,   0,   0,   0,   0,   0,   0,   0,   0,   0,   0,   0,\n",
       "         0,   0,   0,   0,   0,   0,   0,   0,   0,   0,   0,   0,   0,\n",
       "         0,   0,   0,   0,   0,   0,   0,   0,   0,   0,   0,   0,   0,\n",
       "         0,   0,   0,   0,   0,   0,   0,   0,   0,   0,   0,   0,   0,\n",
       "         0,   0,   0,   0,   0,   0,   0,   0,   0,   0,   0,   0,   0,\n",
       "         0,   0,   0,   0,   0,   0,  39,  96,   0,   0,   0,   0,   0,\n",
       "         0,   0,   0,   0,   0,   0,   0,   0,   0,   0,   0,   0,   0,\n",
       "         0,   0,   0,   0,   0,   0,   0,   0, 113, 252,  18,   0,   0,\n",
       "         0,   0,   0,   0,   0,   0,   0,   0,   0,   0,   0,   0,   0,\n",
       "         0,   0,   0,   0,   0,   0,  75, 190,  11,   0,  79, 255,  47,\n",
       "         0,   0,   0,   0,   0,   0,   0,   0,   0,   0,   0,   0,   0,\n",
       "         0,   0,   0,   0,   0,   0,   0,   0,  52, 252, 146,   0, 114,\n",
       "       255,  13,   0,   0,  42,  74,  92,  89,  27,   0,   0,   0,   0,\n",
       "         0,   0,   0,   0,   0,   0,   0,   0,   0,   0,   0, 136, 253,\n",
       "       104, 175, 229,   0,  13, 154, 254, 255, 255, 255, 255, 155,   8,\n",
       "         0,   0,  14, 108, 179, 205, 182,  73,   1,   0,   0,   0,   0,\n",
       "         8, 242, 255, 255, 239,  62, 221, 250, 127,  48,  30,  41, 132,\n",
       "       252, 177,   0,  74, 241, 255, 206, 175, 221, 255, 129,   0,   0,\n",
       "         0,   0,   0, 233, 231,  92, 247, 212, 249,  52,   0,   0,   0,\n",
       "         0,   0, 103, 255, 130, 249, 198,  44,   0,   0,   2, 164, 246,\n",
       "         2,   0,   0,   0,   0, 249, 133,  75, 253, 255, 237,   0,   0,\n",
       "         0,   0,   0,   0,   1, 243, 255, 255, 144,   0,   0,   0,   0,\n",
       "       128, 255,   4,   0,   0,   0,   0, 194, 251, 249, 197, 153, 253,\n",
       "       188, 109, 105,  68,  68, 111, 177, 254, 170, 206, 247, 178, 101,\n",
       "       111, 168, 248, 184,   0,   0,   0,   0,   0,  25, 123, 150,  15,\n",
       "        28, 251, 249, 255, 255, 255, 255, 255, 253, 144,   5,  15, 158,\n",
       "       255, 255, 255, 254, 224,  18,   0,   0,   0,   0,   0,   0,   0,\n",
       "         0,   0, 116, 254,  48, 207, 197,  51,  51,  53, 244, 160,   0,\n",
       "         0,  19, 255, 120,  11, 118, 254, 119,   6,   0,   0,   0,   0,\n",
       "         0,   0,   0,   0, 201, 184,   0, 202, 175,   0,   0,   0, 124,\n",
       "       254,  57,   0,   2, 252, 152,   0,  10, 171, 254, 102,   0,   0,\n",
       "         0,   0,   0,   0,   0,   0,  46,  24,   0, 207, 167,   0,   0,\n",
       "         0,   7, 173,  61,   0,   0, 150, 252,  20,   0,   0,  38,   7,\n",
       "         0,   0,   0,   0,   0,   0,   0,   0,   0,   0,   0,  80,  56,\n",
       "         0,   0,   0,   0,   0,   0,   0,   0,   0,  23,   0,   0,   0,\n",
       "         0,   0,   0,   0,   0,   0,   0,   0,   0,   0,   0,   0,   0,\n",
       "         0,   0,   0,   0,   0,   0,   0,   0,   0,   0,   0,   0,   0,\n",
       "         0,   0,   0,   0,   0,   0,   0,   0,   0,   0,   0,   0,   0,\n",
       "         0,   0,   0,   0,   0,   0,   0,   0,   0,   0,   0,   0,   0,\n",
       "         0,   0,   0,   0,   0,   0,   0,   0,   0,   0,   0,   0,   0,\n",
       "         0,   0,   0,   0,   0,   0,   0,   0,   0,   0,   0,   0,   0,\n",
       "         0,   0,   0,   0,   0,   0,   0,   0,   0,   0,   0,   0,   0,\n",
       "         0,   0,   0,   0,   0,   0,   0,   0,   0,   0,   0,   0,   0,\n",
       "         0,   0,   0,   0,   0,   0,   0,   0,   0,   0,   0,   0,   0,\n",
       "         0,   0,   0,   0,   0,   0,   0,   0,   0,   0,   0,   0,   0,\n",
       "         0,   0,   0,   0,   0,   0,   0,   0,   0,   0,   0,   0,   0,\n",
       "         0,   0,   0,   0,   0,   0,   0,   0,   0,   0,   0,   0,   0,\n",
       "         0,   0,   0,   0,   0,   0,   0,   0,   0,   0,   0,   0,   0,\n",
       "         0,   0,   0,   0,   0,   0,   0,   0,   0,   0,   0,   0,   0,\n",
       "         0,   0,   0,   0,   0,   0,   0,   0,   0,   0,   0,   0,   0,\n",
       "         0,   0,   0,   0], dtype=uint8)"
      ]
     },
     "execution_count": 5,
     "metadata": {},
     "output_type": "execute_result"
    }
   ],
   "source": [
    "arr[0]"
   ]
  },
  {
   "cell_type": "code",
   "execution_count": 19,
   "id": "8c64eb3a",
   "metadata": {},
   "outputs": [],
   "source": [
    "labeled = np.full((arr.shape[0],1),'ant')"
   ]
  },
  {
   "cell_type": "code",
   "execution_count": 20,
   "id": "1f223ed4",
   "metadata": {},
   "outputs": [],
   "source": [
    "df = pd.DataFrame(arr)"
   ]
  },
  {
   "cell_type": "code",
   "execution_count": 21,
   "id": "0ae0d95f",
   "metadata": {},
   "outputs": [],
   "source": [
    "df['label'] = labeled"
   ]
  },
  {
   "cell_type": "code",
   "execution_count": 23,
   "id": "1892c9cd",
   "metadata": {},
   "outputs": [
    {
     "name": "stderr",
     "output_type": "stream",
     "text": [
      "/home/roni/anaconda3/lib/python3.8/site-packages/sklearn/utils/validation.py:63: DataConversionWarning: A column-vector y was passed when a 1d array was expected. Please change the shape of y to (n_samples, ), for example using ravel().\n",
      "  return f(*args, **kwargs)\n"
     ]
    },
    {
     "data": {
      "text/plain": [
       "LabelEncoder()"
      ]
     },
     "execution_count": 23,
     "metadata": {},
     "output_type": "execute_result"
    }
   ],
   "source": [
    "from sklearn.preprocessing import LabelEncoder\n",
    "lb_en = LabelEncoder()\n",
    "lb_en.fit(labeled)"
   ]
  },
  {
   "cell_type": "code",
   "execution_count": 24,
   "id": "8d0c5972",
   "metadata": {},
   "outputs": [
    {
     "data": {
      "text/plain": [
       "array(['ant'], dtype='<U3')"
      ]
     },
     "execution_count": 24,
     "metadata": {},
     "output_type": "execute_result"
    }
   ],
   "source": [
    "lb_en.classes_"
   ]
  }
 ],
 "metadata": {
  "kernelspec": {
   "display_name": "Python 3",
   "language": "python",
   "name": "python3"
  },
  "language_info": {
   "codemirror_mode": {
    "name": "ipython",
    "version": 3
   },
   "file_extension": ".py",
   "mimetype": "text/x-python",
   "name": "python",
   "nbconvert_exporter": "python",
   "pygments_lexer": "ipython3",
   "version": "3.8.8"
  }
 },
 "nbformat": 4,
 "nbformat_minor": 5
}
